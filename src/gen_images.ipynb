{
 "cells": [
  {
   "cell_type": "code",
   "execution_count": 1,
   "metadata": {},
   "outputs": [],
   "source": [
    "import torch\n",
    "from torchvision.utils import make_grid\n",
    "from torchvision.transforms.functional import to_pil_image\n",
    "from datasets.CIFAR10 import Generator, Discriminator, Partitioner, Z_DIM, SHAPE\n",
    "from pathlib import Path\n",
    "import matplotlib.pyplot as plt"
   ]
  },
  {
   "cell_type": "code",
   "execution_count": 2,
   "metadata": {},
   "outputs": [],
   "source": [
    "device = torch.device(\"cuda\" if torch.cuda.is_available() else \"cpu\")\n",
    "actor = f\"1000\"\n",
    "weights_path = Path(\"results\") / \"weights\"\n",
    "destination_path = Path(\"..\") / \"report\" / \"images\"\n",
    "N_real = 3"
   ]
  },
  {
   "cell_type": "code",
   "execution_count": 3,
   "metadata": {},
   "outputs": [
    {
     "name": "stdout",
     "output_type": "stream",
     "text": [
      "Files already downloaded and verified\n",
      "Files already downloaded and verified\n"
     ]
    }
   ],
   "source": [
    "dataset = Partitioner(0, 0)\n",
    "dataset.load_data()\n",
    "dataloader = torch.utils.data.DataLoader(dataset.train_dataset, batch_size=100, shuffle=True)\n",
    "for i in range(N_real):\n",
    "    real_batch = next(iter(dataloader))[0]\n",
    "    pil = to_pil_image(make_grid(real_batch, nrow=10, value_range=(-1, 1), normalize=True, padding=0))\n",
    "    pil = pil.resize((SHAPE[1] * 10, SHAPE[2] * 10), resample=None)\n",
    "    pil.save(destination_path / f\"real_batch_{i}.png\")"
   ]
  },
  {
   "cell_type": "code",
   "execution_count": 4,
   "metadata": {},
   "outputs": [
    {
     "data": {
      "text/plain": [
       "Generator(\n",
       "  (main): Sequential(\n",
       "    (0): ConvTranspose2d(100, 512, kernel_size=(4, 4), stride=(1, 1), bias=False)\n",
       "    (1): BatchNorm2d(512, eps=1e-05, momentum=0.1, affine=True, track_running_stats=True)\n",
       "    (2): ReLU(inplace=True)\n",
       "    (3): ConvTranspose2d(512, 256, kernel_size=(4, 4), stride=(2, 2), padding=(1, 1), bias=False)\n",
       "    (4): BatchNorm2d(256, eps=1e-05, momentum=0.1, affine=True, track_running_stats=True)\n",
       "    (5): ReLU(inplace=True)\n",
       "    (6): ConvTranspose2d(256, 128, kernel_size=(4, 4), stride=(2, 2), padding=(1, 1), bias=False)\n",
       "    (7): BatchNorm2d(128, eps=1e-05, momentum=0.1, affine=True, track_running_stats=True)\n",
       "    (8): ReLU(inplace=True)\n",
       "    (9): ConvTranspose2d(128, 3, kernel_size=(4, 4), stride=(2, 2), padding=(1, 1), bias=False)\n",
       "    (10): Tanh()\n",
       "  )\n",
       ")"
      ]
     },
     "execution_count": 4,
     "metadata": {},
     "output_type": "execute_result"
    }
   ],
   "source": [
    "generator_state_dict = torch.load(weights_path / actor / \"generator.pt\", map_location=device)\n",
    "generator = Generator()\n",
    "generator.load_state_dict(generator_state_dict)\n",
    "generator.eval()"
   ]
  },
  {
   "cell_type": "code",
   "execution_count": 23,
   "metadata": {},
   "outputs": [
    {
     "name": "stdout",
     "output_type": "stream",
     "text": [
      "Loading weights [PosixPath('results/weights/continuous/generator_50.pt'), PosixPath('results/weights/continuous/generator_100.pt'), PosixPath('results/weights/continuous/generator_150.pt'), PosixPath('results/weights/continuous/generator_200.pt'), PosixPath('results/weights/continuous/generator_250.pt'), PosixPath('results/weights/continuous/generator_300.pt'), PosixPath('results/weights/continuous/generator_350.pt'), PosixPath('results/weights/continuous/generator_400.pt'), PosixPath('results/weights/continuous/generator_450.pt'), PosixPath('results/weights/continuous/generator_500.pt'), PosixPath('results/weights/continuous/generator_550.pt'), PosixPath('results/weights/continuous/generator_600.pt'), PosixPath('results/weights/continuous/generator_650.pt'), PosixPath('results/weights/continuous/generator_700.pt'), PosixPath('results/weights/continuous/generator_750.pt'), PosixPath('results/weights/continuous/generator_800.pt'), PosixPath('results/weights/continuous/generator_850.pt'), PosixPath('results/weights/continuous/generator_900.pt'), PosixPath('results/weights/continuous/generator_950.pt'), PosixPath('results/weights/continuous/generator_1000.pt'), PosixPath('results/weights/continuous/generator_1050.pt'), PosixPath('results/weights/continuous/generator_1100.pt'), PosixPath('results/weights/continuous/generator_1150.pt'), PosixPath('results/weights/continuous/generator_1200.pt'), PosixPath('results/weights/continuous/generator_1250.pt'), PosixPath('results/weights/continuous/generator_1300.pt'), PosixPath('results/weights/continuous/generator_1350.pt'), PosixPath('results/weights/continuous/generator_1400.pt'), PosixPath('results/weights/continuous/generator_1450.pt'), PosixPath('results/weights/continuous/generator_1500.pt'), PosixPath('results/weights/continuous/generator_1550.pt'), PosixPath('results/weights/continuous/generator_1600.pt'), PosixPath('results/weights/continuous/generator_1650.pt'), PosixPath('results/weights/continuous/generator_1700.pt'), PosixPath('results/weights/continuous/generator_1750.pt'), PosixPath('results/weights/continuous/generator_1800.pt'), PosixPath('results/weights/continuous/generator_1850.pt'), PosixPath('results/weights/continuous/generator_1900.pt'), PosixPath('results/weights/continuous/generator_1950.pt'), PosixPath('results/weights/continuous/generator_2000.pt'), PosixPath('results/weights/continuous/generator_2050.pt'), PosixPath('results/weights/continuous/generator_2100.pt'), PosixPath('results/weights/continuous/generator_2150.pt'), PosixPath('results/weights/continuous/generator_2200.pt'), PosixPath('results/weights/continuous/generator_2250.pt'), PosixPath('results/weights/continuous/generator_2300.pt'), PosixPath('results/weights/continuous/generator_2350.pt'), PosixPath('results/weights/continuous/generator_2400.pt'), PosixPath('results/weights/continuous/generator_2450.pt'), PosixPath('results/weights/continuous/generator_2500.pt'), PosixPath('results/weights/continuous/generator_2550.pt'), PosixPath('results/weights/continuous/generator_2600.pt'), PosixPath('results/weights/continuous/generator_2650.pt'), PosixPath('results/weights/continuous/generator_2700.pt'), PosixPath('results/weights/continuous/generator_2750.pt'), PosixPath('results/weights/continuous/generator_2800.pt'), PosixPath('results/weights/continuous/generator_2850.pt'), PosixPath('results/weights/continuous/generator_2900.pt'), PosixPath('results/weights/continuous/generator_2950.pt'), PosixPath('results/weights/continuous/generator_3000.pt'), PosixPath('results/weights/continuous/generator_3050.pt'), PosixPath('results/weights/continuous/generator_3100.pt'), PosixPath('results/weights/continuous/generator_3150.pt'), PosixPath('results/weights/continuous/generator_3200.pt'), PosixPath('results/weights/continuous/generator_3250.pt'), PosixPath('results/weights/continuous/generator_3300.pt'), PosixPath('results/weights/continuous/generator_3350.pt'), PosixPath('results/weights/continuous/generator_3400.pt'), PosixPath('results/weights/continuous/generator_3450.pt'), PosixPath('results/weights/continuous/generator_3500.pt'), PosixPath('results/weights/continuous/generator_3550.pt'), PosixPath('results/weights/continuous/generator_3600.pt'), PosixPath('results/weights/continuous/generator_3650.pt'), PosixPath('results/weights/continuous/generator_3700.pt'), PosixPath('results/weights/continuous/generator_3750.pt'), PosixPath('results/weights/continuous/generator_3800.pt'), PosixPath('results/weights/continuous/generator_3850.pt'), PosixPath('results/weights/continuous/generator_3900.pt'), PosixPath('results/weights/continuous/generator_3950.pt'), PosixPath('results/weights/continuous/generator_4000.pt'), PosixPath('results/weights/continuous/generator_4050.pt'), PosixPath('results/weights/continuous/generator_4100.pt'), PosixPath('results/weights/continuous/generator_4150.pt'), PosixPath('results/weights/continuous/generator_4200.pt'), PosixPath('results/weights/continuous/generator_4250.pt'), PosixPath('results/weights/continuous/generator_4300.pt'), PosixPath('results/weights/continuous/generator_4350.pt'), PosixPath('results/weights/continuous/generator_4400.pt'), PosixPath('results/weights/continuous/generator_4450.pt'), PosixPath('results/weights/continuous/generator_4500.pt'), PosixPath('results/weights/continuous/generator_4550.pt'), PosixPath('results/weights/continuous/generator_4600.pt'), PosixPath('results/weights/continuous/generator_4650.pt'), PosixPath('results/weights/continuous/generator_4700.pt'), PosixPath('results/weights/continuous/generator_4750.pt'), PosixPath('results/weights/continuous/generator_4800.pt'), PosixPath('results/weights/continuous/generator_4850.pt'), PosixPath('results/weights/continuous/generator_4900.pt'), PosixPath('results/weights/continuous/generator_4950.pt'), PosixPath('results/weights/continuous/generator_5000.pt'), PosixPath('results/weights/continuous/generator_5050.pt'), PosixPath('results/weights/continuous/generator_5100.pt'), PosixPath('results/weights/continuous/generator_5150.pt'), PosixPath('results/weights/continuous/generator_5200.pt'), PosixPath('results/weights/continuous/generator_5250.pt'), PosixPath('results/weights/continuous/generator_5300.pt'), PosixPath('results/weights/continuous/generator_5350.pt'), PosixPath('results/weights/continuous/generator_5400.pt'), PosixPath('results/weights/continuous/generator_5450.pt'), PosixPath('results/weights/continuous/generator_5500.pt'), PosixPath('results/weights/continuous/generator_5550.pt'), PosixPath('results/weights/continuous/generator_5600.pt'), PosixPath('results/weights/continuous/generator_5650.pt'), PosixPath('results/weights/continuous/generator_5700.pt'), PosixPath('results/weights/continuous/generator_5750.pt'), PosixPath('results/weights/continuous/generator_5800.pt'), PosixPath('results/weights/continuous/generator_5850.pt'), PosixPath('results/weights/continuous/generator_5900.pt'), PosixPath('results/weights/continuous/generator_5950.pt'), PosixPath('results/weights/continuous/generator_6000.pt'), PosixPath('results/weights/continuous/generator_6050.pt'), PosixPath('results/weights/continuous/generator_6100.pt'), PosixPath('results/weights/continuous/generator_6150.pt'), PosixPath('results/weights/continuous/generator_6200.pt'), PosixPath('results/weights/continuous/generator_6250.pt'), PosixPath('results/weights/continuous/generator_6300.pt'), PosixPath('results/weights/continuous/generator_6350.pt'), PosixPath('results/weights/continuous/generator_6400.pt'), PosixPath('results/weights/continuous/generator_6450.pt'), PosixPath('results/weights/continuous/generator_6500.pt'), PosixPath('results/weights/continuous/generator_6550.pt'), PosixPath('results/weights/continuous/generator_6600.pt'), PosixPath('results/weights/continuous/generator_6650.pt'), PosixPath('results/weights/continuous/generator_6700.pt'), PosixPath('results/weights/continuous/generator_6750.pt'), PosixPath('results/weights/continuous/generator_6800.pt'), PosixPath('results/weights/continuous/generator_6850.pt'), PosixPath('results/weights/continuous/generator_6900.pt'), PosixPath('results/weights/continuous/generator_6950.pt'), PosixPath('results/weights/continuous/generator_7000.pt'), PosixPath('results/weights/continuous/generator_7050.pt'), PosixPath('results/weights/continuous/generator_7100.pt'), PosixPath('results/weights/continuous/generator_7150.pt'), PosixPath('results/weights/continuous/generator_7200.pt'), PosixPath('results/weights/continuous/generator_7250.pt'), PosixPath('results/weights/continuous/generator_7300.pt'), PosixPath('results/weights/continuous/generator_7350.pt'), PosixPath('results/weights/continuous/generator_7400.pt'), PosixPath('results/weights/continuous/generator_7450.pt'), PosixPath('results/weights/continuous/generator_7500.pt'), PosixPath('results/weights/continuous/generator_7550.pt'), PosixPath('results/weights/continuous/generator_7600.pt'), PosixPath('results/weights/continuous/generator_7650.pt'), PosixPath('results/weights/continuous/generator_7700.pt'), PosixPath('results/weights/continuous/generator_7750.pt'), PosixPath('results/weights/continuous/generator_7800.pt'), PosixPath('results/weights/continuous/generator_7850.pt'), PosixPath('results/weights/continuous/generator_7900.pt'), PosixPath('results/weights/continuous/generator_7950.pt'), PosixPath('results/weights/continuous/generator_8000.pt'), PosixPath('results/weights/continuous/generator_8050.pt'), PosixPath('results/weights/continuous/generator_8100.pt'), PosixPath('results/weights/continuous/generator_8150.pt'), PosixPath('results/weights/continuous/generator_8200.pt'), PosixPath('results/weights/continuous/generator_8250.pt'), PosixPath('results/weights/continuous/generator_8300.pt'), PosixPath('results/weights/continuous/generator_8350.pt'), PosixPath('results/weights/continuous/generator_8400.pt'), PosixPath('results/weights/continuous/generator_8450.pt'), PosixPath('results/weights/continuous/generator_8500.pt'), PosixPath('results/weights/continuous/generator_8550.pt'), PosixPath('results/weights/continuous/generator_8600.pt'), PosixPath('results/weights/continuous/generator_8650.pt'), PosixPath('results/weights/continuous/generator_8700.pt'), PosixPath('results/weights/continuous/generator_8750.pt'), PosixPath('results/weights/continuous/generator_8800.pt'), PosixPath('results/weights/continuous/generator_8850.pt'), PosixPath('results/weights/continuous/generator_8900.pt'), PosixPath('results/weights/continuous/generator_8950.pt'), PosixPath('results/weights/continuous/generator_9000.pt'), PosixPath('results/weights/continuous/generator_9050.pt'), PosixPath('results/weights/continuous/generator_9100.pt'), PosixPath('results/weights/continuous/generator_9150.pt'), PosixPath('results/weights/continuous/generator_9200.pt'), PosixPath('results/weights/continuous/generator_9250.pt'), PosixPath('results/weights/continuous/generator_9300.pt'), PosixPath('results/weights/continuous/generator_9350.pt'), PosixPath('results/weights/continuous/generator_9400.pt'), PosixPath('results/weights/continuous/generator_9450.pt'), PosixPath('results/weights/continuous/generator_9500.pt'), PosixPath('results/weights/continuous/generator_9550.pt'), PosixPath('results/weights/continuous/generator_9600.pt'), PosixPath('results/weights/continuous/generator_9650.pt'), PosixPath('results/weights/continuous/generator_9700.pt'), PosixPath('results/weights/continuous/generator_9750.pt'), PosixPath('results/weights/continuous/generator_9800.pt'), PosixPath('results/weights/continuous/generator_9850.pt'), PosixPath('results/weights/continuous/generator_9900.pt'), PosixPath('results/weights/continuous/generator_9950.pt'), PosixPath('results/weights/continuous/generator_10000.pt'), PosixPath('results/weights/continuous/generator_10050.pt'), PosixPath('results/weights/continuous/generator_10100.pt'), PosixPath('results/weights/continuous/generator_10150.pt'), PosixPath('results/weights/continuous/generator_10200.pt'), PosixPath('results/weights/continuous/generator_10250.pt'), PosixPath('results/weights/continuous/generator_10300.pt'), PosixPath('results/weights/continuous/generator_10350.pt'), PosixPath('results/weights/continuous/generator_10400.pt'), PosixPath('results/weights/continuous/generator_10500.pt'), PosixPath('results/weights/continuous/generator_10800.pt'), PosixPath('results/weights/continuous/generator_11100.pt'), PosixPath('results/weights/continuous/generator_11400.pt'), PosixPath('results/weights/continuous/generator_11700.pt'), PosixPath('results/weights/continuous/generator_12000.pt'), PosixPath('results/weights/continuous/generator_12300.pt'), PosixPath('results/weights/continuous/generator_12600.pt'), PosixPath('results/weights/continuous/generator_12900.pt'), PosixPath('results/weights/continuous/generator_13200.pt'), PosixPath('results/weights/continuous/generator_13500.pt'), PosixPath('results/weights/continuous/generator_13800.pt'), PosixPath('results/weights/continuous/generator_14100.pt'), PosixPath('results/weights/continuous/generator_14400.pt'), PosixPath('results/weights/continuous/generator_14700.pt'), PosixPath('results/weights/continuous/generator_15000.pt'), PosixPath('results/weights/continuous/generator_15300.pt'), PosixPath('results/weights/continuous/generator_15600.pt'), PosixPath('results/weights/continuous/generator_15900.pt'), PosixPath('results/weights/continuous/generator_16200.pt'), PosixPath('results/weights/continuous/generator_16500.pt'), PosixPath('results/weights/continuous/generator_16800.pt'), PosixPath('results/weights/continuous/generator_17100.pt'), PosixPath('results/weights/continuous/generator_17400.pt'), PosixPath('results/weights/continuous/generator_17700.pt'), PosixPath('results/weights/continuous/generator_18000.pt'), PosixPath('results/weights/continuous/generator_18300.pt'), PosixPath('results/weights/continuous/generator_18600.pt'), PosixPath('results/weights/continuous/generator_18900.pt'), PosixPath('results/weights/continuous/generator_19200.pt'), PosixPath('results/weights/continuous/generator_19500.pt'), PosixPath('results/weights/continuous/generator_19800.pt'), PosixPath('results/weights/continuous/generator_20100.pt'), PosixPath('results/weights/continuous/generator_20400.pt'), PosixPath('results/weights/continuous/generator_20700.pt'), PosixPath('results/weights/continuous/generator_21000.pt'), PosixPath('results/weights/continuous/generator_21300.pt'), PosixPath('results/weights/continuous/generator_21600.pt'), PosixPath('results/weights/continuous/generator_21900.pt'), PosixPath('results/weights/continuous/generator_22200.pt'), PosixPath('results/weights/continuous/generator_22500.pt'), PosixPath('results/weights/continuous/generator_22800.pt'), PosixPath('results/weights/continuous/generator_23100.pt'), PosixPath('results/weights/continuous/generator_23400.pt'), PosixPath('results/weights/continuous/generator_23700.pt'), PosixPath('results/weights/continuous/generator_24000.pt'), PosixPath('results/weights/continuous/generator_24300.pt'), PosixPath('results/weights/continuous/generator_24600.pt'), PosixPath('results/weights/continuous/generator_24900.pt'), PosixPath('results/weights/continuous/generator_25200.pt'), PosixPath('results/weights/continuous/generator_25500.pt'), PosixPath('results/weights/continuous/generator_25800.pt'), PosixPath('results/weights/continuous/generator_26100.pt'), PosixPath('results/weights/continuous/generator_26400.pt'), PosixPath('results/weights/continuous/generator_26700.pt'), PosixPath('results/weights/continuous/generator_27000.pt'), PosixPath('results/weights/continuous/generator_27300.pt'), PosixPath('results/weights/continuous/generator_27600.pt'), PosixPath('results/weights/continuous/generator_27900.pt'), PosixPath('results/weights/continuous/generator_28200.pt'), PosixPath('results/weights/continuous/generator_28500.pt'), PosixPath('results/weights/continuous/generator_28800.pt'), PosixPath('results/weights/continuous/generator_29100.pt'), PosixPath('results/weights/continuous/generator_29400.pt'), PosixPath('results/weights/continuous/generator_29700.pt'), PosixPath('results/weights/continuous/generator_29999.pt')]\n",
      "Generated 200\n",
      "Generated 400\n",
      "Generated 600\n",
      "Generated 800\n",
      "Generated 1000\n",
      "Generated 1200\n",
      "Generated 1400\n",
      "Generated 1600\n",
      "Generated 1800\n",
      "Generated 2000\n",
      "Generated 2200\n",
      "Generated 2400\n",
      "Generated 2600\n",
      "Generated 2800\n",
      "Generated 3000\n",
      "Generated 3200\n",
      "Generated 3400\n",
      "Generated 3600\n",
      "Generated 3800\n",
      "Generated 4000\n",
      "Generated 4200\n",
      "Generated 4400\n",
      "Generated 4600\n",
      "Generated 4800\n",
      "Generated 5000\n",
      "Generated 5200\n",
      "Generated 5400\n",
      "Generated 5600\n",
      "Generated 5800\n",
      "Generated 6000\n",
      "Generated 6200\n",
      "Generated 6400\n",
      "Generated 6600\n",
      "Generated 6800\n",
      "Generated 7000\n",
      "Generated 7200\n",
      "Generated 7400\n",
      "Generated 7600\n",
      "Generated 7800\n",
      "Generated 8000\n",
      "Generated 8200\n",
      "Generated 8400\n",
      "Generated 8600\n",
      "Generated 8800\n",
      "Generated 9000\n",
      "Generated 9200\n",
      "Generated 9400\n",
      "Generated 9600\n",
      "Generated 9800\n",
      "Generated 10000\n",
      "Generated 10200\n",
      "Generated 10400\n",
      "Generated 10800\n",
      "Generated 11400\n",
      "Generated 12000\n",
      "Generated 12600\n",
      "Generated 13200\n",
      "Generated 13800\n",
      "Generated 14400\n",
      "Generated 15000\n",
      "Generated 15600\n",
      "Generated 16200\n",
      "Generated 16800\n",
      "Generated 17400\n",
      "Generated 18000\n",
      "Generated 18600\n",
      "Generated 19200\n",
      "Generated 19800\n",
      "Generated 20400\n",
      "Generated 21000\n",
      "Generated 21600\n",
      "Generated 22200\n",
      "Generated 22800\n",
      "Generated 23400\n",
      "Generated 24000\n",
      "Generated 24600\n",
      "Generated 25200\n",
      "Generated 25800\n",
      "Generated 26400\n",
      "Generated 27000\n",
      "Generated 27600\n",
      "Generated 28200\n",
      "Generated 28800\n",
      "Generated 29400\n",
      "Generated 29999\n"
     ]
    },
    {
     "ename": "NameError",
     "evalue": "name 'Image' is not defined",
     "output_type": "error",
     "traceback": [
      "\u001b[0;31m---------------------------------------------------------------------------\u001b[0m",
      "\u001b[0;31mNameError\u001b[0m                                 Traceback (most recent call last)",
      "Cell \u001b[0;32mIn[23], line 27\u001b[0m\n\u001b[1;32m     24\u001b[0m grid \u001b[38;5;241m=\u001b[39m to_pil_image(make_grid(images, nrow\u001b[38;5;241m=\u001b[39m\u001b[38;5;241m14\u001b[39m, padding\u001b[38;5;241m=\u001b[39m\u001b[38;5;241m0\u001b[39m))\n\u001b[1;32m     26\u001b[0m \u001b[38;5;66;03m# Create a white background image with the same size as the grid image\u001b[39;00m\n\u001b[0;32m---> 27\u001b[0m white_background \u001b[38;5;241m=\u001b[39m \u001b[43mImage\u001b[49m\u001b[38;5;241m.\u001b[39mnew(\u001b[38;5;124m\"\u001b[39m\u001b[38;5;124mRGB\u001b[39m\u001b[38;5;124m\"\u001b[39m, grid\u001b[38;5;241m.\u001b[39msize, (\u001b[38;5;241m255\u001b[39m, \u001b[38;5;241m255\u001b[39m, \u001b[38;5;241m255\u001b[39m))\n\u001b[1;32m     29\u001b[0m \u001b[38;5;66;03m# Paste the grid image onto the white background\u001b[39;00m\n\u001b[1;32m     30\u001b[0m white_background\u001b[38;5;241m.\u001b[39mpaste(grid, (\u001b[38;5;241m0\u001b[39m, \u001b[38;5;241m0\u001b[39m))\n",
      "\u001b[0;31mNameError\u001b[0m: name 'Image' is not defined"
     ]
    }
   ],
   "source": [
    "weights = (weights_path/\"continuous\").glob(\"generator_*.pt\")\n",
    "weights = sorted(weights, key=lambda x: int(x.stem.split(\"_\")[1]))\n",
    "print(f\"Loading weights {weights}\")\n",
    "\n",
    "images = []\n",
    "for i, weight in enumerate(weights):\n",
    "    weight_name = int(weight.stem.split('_')[1])\n",
    "\n",
    "    if weight_name % 200 != 0 and weight_name != 29999:\n",
    "        continue\n",
    "\n",
    "    generator_state_dict = torch.load(weight, map_location=device)\n",
    "    generator = Generator()\n",
    "    generator.load_state_dict(generator_state_dict)\n",
    "    generator.eval()\n",
    "\n",
    "    z = torch.randn(1, Z_DIM, 1, 1, device=device)\n",
    "    fake_batch = generator(z)\n",
    "    single_image = make_grid(fake_batch, nrow=1, value_range=(-1, 1), normalize=True, padding=0)\n",
    "    #single_image = single_image.resize((SHAPE[1] * 5, SHAPE[2] * 5), resample=None)\n",
    "    images.append(single_image)\n",
    "    print(f\"Generated {weight_name}\")\n",
    "\n",
    "grid = to_pil_image(make_grid(images, nrow=14, padding=0))\n",
    "\n",
    "# Create a white background image with the same size as the grid image\n",
    "white_background = Image.new(\"RGB\", grid.size, (255, 255, 255))\n",
    "\n",
    "# Paste the grid image onto the white background\n",
    "white_background.paste(grid, (0, 0))\n",
    "\n",
    "white_background.save(destination_path / \"fake_batch_grid.png\")"
   ]
  },
  {
   "cell_type": "code",
   "execution_count": 6,
   "metadata": {},
   "outputs": [],
   "source": [
    "seed = torch.randn((100, 100, 1, 1), device=device)"
   ]
  },
  {
   "cell_type": "code",
   "execution_count": 7,
   "metadata": {},
   "outputs": [],
   "source": [
    "with torch.no_grad():\n",
    "    images = generator(seed)\n",
    "    grid = make_grid(images, nrow=10, padding=0, value_range=(-1, 1), normalize=True)\n",
    "    pil = to_pil_image(grid)\n",
    "    pil = pil.resize((SHAPE[1] * 10, SHAPE[2] * 10), resample=None)\n",
    "    pil.save(destination_path / f\"{actor}.png\")"
   ]
  }
 ],
 "metadata": {
  "kernelspec": {
   "display_name": ".venv",
   "language": "python",
   "name": "python3"
  },
  "language_info": {
   "codemirror_mode": {
    "name": "ipython",
    "version": 3
   },
   "file_extension": ".py",
   "mimetype": "text/x-python",
   "name": "python",
   "nbconvert_exporter": "python",
   "pygments_lexer": "ipython3",
   "version": "3.9.18"
  }
 },
 "nbformat": 4,
 "nbformat_minor": 2
}
